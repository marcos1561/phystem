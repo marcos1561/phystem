{
 "cells": [
  {
   "cell_type": "code",
   "execution_count": 1,
   "metadata": {},
   "outputs": [
    {
     "data": {
      "text/plain": [
       "(10778, 10693)"
      ]
     },
     "execution_count": 1,
     "metadata": {},
     "output_type": "execute_result"
    }
   ],
   "source": [
    "import os\n",
    "\n",
    "exclude_dirs = [\n",
    "    \"phystem/cpp/tests_ui/build\",\n",
    "    \"phystem/cpp/tests_ui/ui/deps\",\n",
    "    # \"phystem/cpp/ui\",\n",
    "]\n",
    "# exclude_dirs = []\n",
    "\n",
    "def get_num_lines(path):\n",
    "    num_lines = 0\n",
    "    num_lines_without_nb = 0\n",
    "\n",
    "    for item in os.listdir(path):\n",
    "        item: str\n",
    "        item_path = os.path.join(path, item)\n",
    "        if os.path.isdir(item_path):\n",
    "            skip = False\n",
    "            for exclude_dir in exclude_dirs:\n",
    "                if exclude_dir in item_path:\n",
    "                    skip = True\n",
    "                    break\n",
    "                \n",
    "            if not skip:\n",
    "                # print(item_path)\n",
    "                nl, nl_nb = get_num_lines(item_path)\n",
    "                num_lines += nl\n",
    "                num_lines_without_nb += nl_nb\n",
    "        else:\n",
    "            extension = item.split(\".\")[-1]\n",
    "            if extension in (\"py\", \"h\", \"cpp\", \"ipy\", \"ipynb\", \"sh\"):\n",
    "                with open(item_path, 'r') as fp:\n",
    "                    num_lines_i = len(fp.readlines())\n",
    "                    num_lines += num_lines_i\n",
    "                    if extension != \"ipynb\":\n",
    "                        num_lines_without_nb += num_lines_i\n",
    "\n",
    "    return num_lines, num_lines_without_nb\n",
    "\n",
    "get_num_lines(\"../../\")"
   ]
  }
 ],
 "metadata": {
  "kernelspec": {
   "display_name": "Python 3",
   "language": "python",
   "name": "python3"
  },
  "language_info": {
   "codemirror_mode": {
    "name": "ipython",
    "version": 3
   },
   "file_extension": ".py",
   "mimetype": "text/x-python",
   "name": "python",
   "nbconvert_exporter": "python",
   "pygments_lexer": "ipython3",
   "version": "3.10.12"
  },
  "orig_nbformat": 4
 },
 "nbformat": 4,
 "nbformat_minor": 2
}
