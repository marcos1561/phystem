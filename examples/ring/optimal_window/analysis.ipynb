{
 "cells": [
  {
   "cell_type": "code",
   "execution_count": null,
   "metadata": {},
   "outputs": [],
   "source": [
    "import numpy as np\n",
    "import matplotlib.pyplot as plt"
   ]
  },
  {
   "cell_type": "code",
   "execution_count": null,
   "metadata": {},
   "outputs": [],
   "source": [
    "folders = [\"run1\", \"run2\", \"run3\"]\n",
    "\n",
    "data = []\n",
    "num_windows = []\n",
    "for f in folders:\n",
    "    data.append(np.load(f\"data/\" + f + \"/data.npy\"))\n",
    "    num_windows.append(np.load(f\"data/\" + f + \"/num_windows.npy\"))"
   ]
  },
  {
   "cell_type": "code",
   "execution_count": null,
   "metadata": {},
   "outputs": [],
   "source": [
    "num_windows[0][4]"
   ]
  },
  {
   "cell_type": "code",
   "execution_count": null,
   "metadata": {},
   "outputs": [],
   "source": [
    "run_id = 2\n",
    "id = -10\n",
    "\n",
    "y_data = data[run_id][id]\n",
    "num_windows_i = num_windows[run_id][id]\n",
    "\n",
    "plt.title(f\"N = {num_windows_i}\")\n",
    "plt.ylabel(\"$<\\Delta t>$ (ms)\")\n",
    "plt.xlabel(\"Tempo da simulação\")\n",
    "\n",
    "plt.plot(y_data)\n",
    "plt.plot([0, y_data.size],  [y_data.mean()]*2, color=\"black\", label=\"Média\")\n",
    "\n",
    "plt.legend()\n",
    "plt.figure()\n",
    "\n",
    "plt.title(f\"N = {num_windows_i}\")\n",
    "plt.xlabel(\"$<\\Delta t>$ (ms)\")\n",
    "\n",
    "plt.hist(y_data, bins=20)\n",
    "\n",
    "plt.show()"
   ]
  },
  {
   "cell_type": "code",
   "execution_count": null,
   "metadata": {},
   "outputs": [],
   "source": [
    "run_to_cut_time = {0: 400, 1: 400, 2: 400}\n",
    "run_to_cut_windows = {0: 10, 1: 20, 2: 30}\n",
    "\n",
    "import matplotlib as mpl\n",
    "mpl.rcParams[\"figure.figsize\"] = (12, 12)\n",
    "\n",
    "plt.figure()\n",
    "for run_id in range(3):\n",
    "    mean = []\n",
    "    std = []\n",
    "    time_cut = run_to_cut_time[run_id]\n",
    "    for id, num in enumerate(num_windows[run_id]):\n",
    "        mean.append(data[run_id][id][time_cut:].mean())\n",
    "        std.append(data[run_id][id][time_cut:].std())\n",
    "        # plt.plot(data[id], label=num)\n",
    "    mean = np.array(mean)\n",
    "    std = np.array(std)\n",
    "\n",
    "\n",
    "    num_windows_i = num_windows[run_id]\n",
    "    num_windows_norm = num_windows[run_id]/num_windows[run_id].max() \n",
    "    \n",
    "    filter = num_windows_i > num_windows_i.max()*0.4\n",
    "    # filter = num_windows_norm > 0.4\n",
    "\n",
    "    # plt.figure()\n",
    "    plt.subplot(3, 2, 2 * run_id + 1)\n",
    "    \n",
    "    plt.xlabel(\"Número de janelas por linha\")\n",
    "    plt.ylabel(\"$<\\Delta t> (ms)$\")\n",
    "    plt.errorbar(num_windows_i, mean, std, fmt=\"o\", ecolor=\"black\")\n",
    "    \n",
    "    plt.subplot(3, 2, 2 * run_id + 2)\n",
    "    plt.xlabel(\"Número de janelas por linha\")\n",
    "    plt.ylabel(\"$<\\Delta t> (ms)$\")\n",
    "    plt.errorbar(num_windows_i[filter], mean[filter], std[filter], fmt=\"o\", ecolor=\"black\")\n",
    "    \n",
    "\n",
    "plt.show()"
   ]
  },
  {
   "cell_type": "code",
   "execution_count": null,
   "metadata": {},
   "outputs": [],
   "source": [
    "print(f\"1: {25/35}\")\n",
    "print(f\"2: {45/59}\")\n",
    "print(f\"3: {70/94}\")"
   ]
  }
 ],
 "metadata": {
  "kernelspec": {
   "display_name": "Python 3",
   "language": "python",
   "name": "python3"
  },
  "language_info": {
   "codemirror_mode": {
    "name": "ipython",
    "version": 3
   },
   "file_extension": ".py",
   "mimetype": "text/x-python",
   "name": "python",
   "nbconvert_exporter": "python",
   "pygments_lexer": "ipython3",
   "version": "3.10.12"
  }
 },
 "nbformat": 4,
 "nbformat_minor": 2
}
