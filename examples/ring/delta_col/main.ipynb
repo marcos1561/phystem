{
 "cells": [
  {
   "cell_type": "code",
   "execution_count": 1,
   "metadata": {},
   "outputs": [],
   "source": [
    "import numpy as np\n",
    "import matplotlib.pyplot as plt\n",
    "import pickle, yaml\n",
    "from pathlib import Path"
   ]
  },
  {
   "cell_type": "code",
   "execution_count": 2,
   "metadata": {},
   "outputs": [],
   "source": [
    "k = 1.2\n",
    "plt.rcParams[\"figure.figsize\"] = [k * 6.4, k * 4.8]"
   ]
  },
  {
   "cell_type": "code",
   "execution_count": 3,
   "metadata": {},
   "outputs": [],
   "source": [
    "from phystem.systems.ring.quantities.datas import DeltaData\n",
    "\n",
    "def init_graph(id, data: DeltaData):\n",
    "    xlims = data.configs[\"run_cfg\"].func_cfg[\"xlims\"]\n",
    "    space_cfg = data.configs[\"space_cfg\"]\n",
    "\n",
    "    plt.title(id)\n",
    "\n",
    "    h = space_cfg.height\n",
    "    plt.plot(2*[xlims[0]], [-h/2, h/2], color=\"black\")\n",
    "    plt.plot(2*[xlims[1]], [-h/2, h/2], color=\"black\")\n",
    "\n",
    "    selected_mask = np.isin(data.init_uids[id], data.init_selected_uids[id])\n",
    "\n",
    "    x, y = data.init_cms[id].T\n",
    "    xs, ys = data.init_cms[id][selected_mask].T\n",
    "\n",
    "    plt.scatter(x, y)\n",
    "    plt.scatter(xs, ys, color=\"red\")\n",
    "\n",
    "    for i, uid in enumerate(data.init_uids[id]):\n",
    "        plt.annotate(str(uid), (x[i], y[i]))\n",
    "\n",
    "def final_graph(id, data: DeltaData):\n",
    "    wait_dist = data.configs[\"run_cfg\"].func_cfg[\"wait_dist\"]\n",
    "    for uid, cms in data.final_cms[id].items():\n",
    "        plt.figure()\n",
    "        plt.title(f\"{uid}\")\n",
    "        \n",
    "        init_idx = np.where(data.init_uids[id] == uid)[0][0]\n",
    "        x_end = data.init_cms[id][init_idx][0] + wait_dist\n",
    "        space_cfg = data.configs[\"space_cfg\"]\n",
    "        h = space_cfg.height\n",
    "        plt.plot(2*[x_end], [-h/2, h/2], color=\"black\")\n",
    "\n",
    "        x, y = cms.T\n",
    "        plt.scatter(x, y)\n",
    "        \n",
    "        selected_idx = np.where(data.final_uids[id][uid] == uid)[0][0]\n",
    "        xs, ys = cms[selected_idx]\n",
    "        plt.scatter(xs, ys, color=\"red\")\n",
    "\n",
    "        for i, uid in enumerate(data.final_uids[id][uid]):\n",
    "            plt.annotate(str(uid), (x[i], y[i]))\n",
    "    \n",
    "def check_selected_uids(data: DeltaData):\n",
    "    print(data.num_points)\n",
    "    for id in range(data.num_points):\n",
    "        expected = sorted(data.init_selected_uids[id])\n",
    "        \n",
    "\n",
    "        f_cms = sorted(data.final_cms[id].keys())\n",
    "        if f_cms != expected:\n",
    "            print(\"========\")\n",
    "            print(f\"Error: final cm | id={id}\")\n",
    "            print(\"init:\", expected)\n",
    "            print(\"final:\", f_cms)\n",
    "\n",
    "        f_uids = sorted(data.final_uids[id].keys())\n",
    "        if f_uids != expected:\n",
    "            print(\"========\")\n",
    "            print(f\"Error: final uids | id={id}\")\n",
    "            print(\"init:\", expected)\n",
    "            print(\"final:\", f_uids)\n",
    "\n",
    "def check_uids(data: DeltaData):\n",
    "    for i in range(data.num_points):\n",
    "        expected = data.init_uids[i]\n",
    "\n",
    "        for uid, final_uids in data.final_uids[i].items():\n",
    "            if (final_uids != expected).any():\n",
    "                print(f\"Erro: id={i} | uid={uid}\")"
   ]
  },
  {
   "cell_type": "code",
   "execution_count": 5,
   "metadata": {},
   "outputs": [],
   "source": [
    "data = DeltaData(\"datas/test1\")"
   ]
  },
  {
   "cell_type": "code",
   "execution_count": 7,
   "metadata": {},
   "outputs": [],
   "source": [
    "# check_selected_uids(data)\n",
    "check_uids(data)"
   ]
  },
  {
   "cell_type": "code",
   "execution_count": null,
   "metadata": {},
   "outputs": [],
   "source": [
    "id = 15\n",
    "\n",
    "# init_graph(id, data)\n",
    "# final_graph(id, data)\n",
    "\n",
    "for i in range(data.num_points):\n",
    "    plt.figure()\n",
    "    init_graph(i, data)"
   ]
  }
 ],
 "metadata": {
  "kernelspec": {
   "display_name": "Python 3",
   "language": "python",
   "name": "python3"
  },
  "language_info": {
   "codemirror_mode": {
    "name": "ipython",
    "version": 3
   },
   "file_extension": ".py",
   "mimetype": "text/x-python",
   "name": "python",
   "nbconvert_exporter": "python",
   "pygments_lexer": "ipython3",
   "version": "3.10.12"
  }
 },
 "nbformat": 4,
 "nbformat_minor": 2
}
