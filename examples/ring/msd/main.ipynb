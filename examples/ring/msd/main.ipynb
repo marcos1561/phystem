{
 "cells": [
  {
   "cell_type": "code",
   "execution_count": null,
   "metadata": {},
   "outputs": [],
   "source": [
    "import os, yaml\n",
    "import numpy as np\n",
    "import matplotlib.pyplot as plt\n",
    "\n",
    "from phystem.systems.ring import utils\n",
    "from phystem.core.run_config import load_cfg"
   ]
  },
  {
   "cell_type": "code",
   "execution_count": null,
   "metadata": {},
   "outputs": [],
   "source": [
    "def load(frame, offset,  data_dir):\n",
    "    file1 = os.path.join(data_dir, f\"pos_{frame}.npy\")\n",
    "    file2 = os.path.join(data_dir, f\"pos_{frame+offset}.npy\")\n",
    "    pos1 = np.load(file1)\n",
    "    pos2 = np.load(file2)\n",
    "    return pos1, pos2\n",
    "\n",
    "def calc_sd(p1, p2, space_cfg):\n",
    "    cm1 = utils.get_cm(p1)\n",
    "    cm2 = utils.get_cm(p2)\n",
    "\n",
    "    # return np.square(cm1 - cm2).sum(axis=1)\n",
    "    return np.square(utils.get_dist_pb(cm1, cm2, space_cfg.height, space_cfg.length)).sum(axis=1)\n",
    "\n",
    "def calc_total_sq(offset, space_cfg, num_frames, data_dir):\n",
    "    sq_data = []\n",
    "    for frame in range(0, num_frames-offset, offset):\n",
    "        p1, p2 = load(frame, offset, data_dir)\n",
    "        square_d = calc_sd(p1, p2, space_cfg)\n",
    "\n",
    "        sq_data.append(square_d)\n",
    "    sq_data = np.array(sq_data)\n",
    "\n",
    "    return sq_data\n",
    "\n",
    "def get_msd_data(root_dir):\n",
    "    data_dir = os.path.join(root_dir, \"data\")\n",
    "\n",
    "    with open(os.path.join(root_dir, \"metadata.yaml\")) as f:\n",
    "        num_frames = yaml.unsafe_load(f)[\"count\"]\n",
    "    cfgs = load_cfg(\"data/test/config.yaml\")\n",
    "\n",
    "    frame_dt = cfgs[\"run_cfg\"].func_cfg[\"dt\"]\n",
    "    sq_mean = []\n",
    "    time_step = []\n",
    "    for offset in range(1, int(num_frames/2)):\n",
    "        sq_data = calc_total_sq(offset, cfgs[\"space_cfg\"], num_frames, data_dir)\n",
    "        sq_mean.append(sq_data.mean())\n",
    "        time_step.append(offset * frame_dt)\n",
    "\n",
    "    sq_mean = np.array(sq_mean)\n",
    "    time_step = np.array(time_step)\n",
    "\n",
    "    return (time_step, sq_mean)"
   ]
  },
  {
   "cell_type": "code",
   "execution_count": null,
   "metadata": {},
   "outputs": [],
   "source": [
    "rot_diff = [0.1, 0.5, 1]\n",
    "msd_data = [] \n",
    "\n",
    "for root_dir in [\"rot_0_1\", \"rot_0_5\", \"rot_1\"]:\n",
    "    msd_data.append(get_msd_data(os.path.join(\"data\", root_dir)))"
   ]
  },
  {
   "cell_type": "code",
   "execution_count": null,
   "metadata": {},
   "outputs": [],
   "source": [
    "plt.figure(dpi=130)\n",
    "\n",
    "plt.xlabel(\"$\\Delta t$ (Passos temporais)\")\n",
    "plt.ylabel(\"$\\\\langle |\\\\Delta \\\\vec r|^2 \\\\rangle$\")\n",
    "plt.yscale(\"log\")\n",
    "plt.xscale(\"log\")\n",
    "\n",
    "\n",
    "rot_diff = np.array(rot_diff)\n",
    "z_value = (rot_diff - rot_diff.min())/(rot_diff.max() - rot_diff.min())\n",
    "z_value = [0.5 -0.3, 0.5, 0.5+0.3]\n",
    "for idx, rd in enumerate(rot_diff):\n",
    "    x_time = msd_data[idx][0] / 0.01\n",
    "    sq_mean = msd_data[idx][1]\n",
    "\n",
    "    mask = x_time > 10**3.2\n",
    "\n",
    "    plt.scatter(x_time[mask], sq_mean[mask], label=f\"Dados (rot = {rd})\", s=6)\n",
    "\n",
    "\n",
    "# x_time, sq_mean = msd_data[-1]\n",
    "# x_time = x_time / 0.01\n",
    "# half_mask = x_time > (x_time[-1]*x_time[0])**.5\n",
    "\n",
    "# x_linear = x_time[half_mask]\n",
    "# plt.plot(x_linear, 1/2 * sq_mean[-1]/x_linear[-1] * x_linear, label=\"y~x\", c=\"red\")\n",
    "\n",
    "# x_square = x_time[np.logical_not(half_mask)]\n",
    "# plt.plot(x_square, 1/4 * sq_mean[0] * (x_square/x_square[0])**2, label=\"y~x²\", c=\"g\")\n",
    "\n",
    "plt.legend()\n",
    "# plt.savefig(\"data/images/multiple_rots_zoom.png\")"
   ]
  },
  {
   "cell_type": "code",
   "execution_count": null,
   "metadata": {},
   "outputs": [],
   "source": [
    "plt.figure(dpi=130)\n",
    "\n",
    "mask = x_time > 1e3\n",
    "\n",
    "plt.xlabel(\"$\\Delta t$ (Passos temporais)\")\n",
    "plt.ylabel(\"$\\\\langle |\\\\Delta \\\\vec r|^2 \\\\rangle$\")\n",
    "plt.yscale(\"log\")\n",
    "plt.xscale(\"log\")\n",
    "plt.scatter(x_time[mask], sq_mean[mask], label=\"Dados\", c=\"black\", s=6)\n",
    "\n",
    "# plt.savefig(\"data/images/high_rot_zoom.png\")"
   ]
  }
 ],
 "metadata": {
  "kernelspec": {
   "display_name": "Python 3",
   "language": "python",
   "name": "python3"
  },
  "language_info": {
   "codemirror_mode": {
    "name": "ipython",
    "version": 3
   },
   "file_extension": ".py",
   "mimetype": "text/x-python",
   "name": "python",
   "nbconvert_exporter": "python",
   "pygments_lexer": "ipython3",
   "version": "3.10.12"
  }
 },
 "nbformat": 4,
 "nbformat_minor": 2
}
