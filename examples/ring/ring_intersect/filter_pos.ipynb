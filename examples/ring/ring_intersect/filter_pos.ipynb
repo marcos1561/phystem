{
 "cells": [
  {
   "cell_type": "code",
   "execution_count": 1,
   "metadata": {},
   "outputs": [],
   "source": [
    "import matplotlib.pyplot as plt\n",
    "import numpy as np\n",
    "import os, yaml"
   ]
  },
  {
   "cell_type": "code",
   "execution_count": 23,
   "metadata": {},
   "outputs": [
    {
     "data": {
      "text/plain": [
       "(15129, 30, 2)"
      ]
     },
     "execution_count": 23,
     "metadata": {},
     "output_type": "execute_result"
    }
   ],
   "source": [
    "# folder_name = \"data_hd_test\"\n",
    "folder_name = \"data_cluster/data\"\n",
    "\n",
    "in_points_path = os.path.join(folder_name, \"inside_points.npy\")\n",
    "in_hist_path = os.path.join(folder_name, \"in_data.npy\")\n",
    "pos_path = os.path.join(folder_name, \"pos.npy\")\n",
    "angle_path = os.path.join(folder_name, \"angle.npy\")\n",
    "cfg_path = os.path.join(folder_name, \"config.yaml\")\n",
    "\n",
    "in_points = np.load(in_points_path)\n",
    "in_hist = np.load(in_hist_path)\n",
    "data = np.load(pos_path)\n",
    "\n",
    "angle_data = None\n",
    "if os.path.exists(angle_path):\n",
    "    angle_data = np.load(angle_path)\n",
    "\n",
    "with open(cfg_path, \"r\") as f:\n",
    "    cfg = yaml.unsafe_load(f)\n",
    "cfg[\"run_cfg\"].int_cfg.in_pol_checker.update_freq = 1\n",
    "\n",
    "data.shape"
   ]
  },
  {
   "cell_type": "code",
   "execution_count": 28,
   "metadata": {},
   "outputs": [
    {
     "name": "stdout",
     "output_type": "stream",
     "text": [
      "[]\n"
     ]
    }
   ],
   "source": [
    "# print(in_hist)\n",
    "print(in_points)\n",
    "\n",
    "# print(data.shape[1])\n",
    "\n",
    "# in_points = [[0, 0]]"
   ]
  },
  {
   "cell_type": "code",
   "execution_count": 20,
   "metadata": {},
   "outputs": [],
   "source": [
    "size = cfg[\"space_cfg\"].size\n",
    "data_cont = np.zeros_like(data)\n",
    "\n",
    "data_cont[:,0] = data[:, 0]\n",
    "\n",
    "for i in range(1, data.shape[1]):\n",
    "    p_diff = data[:, i] - data[:, i-1]\n",
    "    \n",
    "    x_filter = np.abs(p_diff[:,0]) > size/2 \n",
    "    y_filter = np.abs(p_diff[:,1]) > size/2 \n",
    "    \n",
    "    p_diff[x_filter, 0] -= np.copysign(size, p_diff[x_filter, 0]) \n",
    "    p_diff[y_filter, 1] -= np.copysign(size, p_diff[y_filter, 1]) \n",
    "    \n",
    "    data_cont[:, i] = data_cont[:, i-1] + p_diff\n",
    "     \n",
    "\n",
    "# for ring in data:\n",
    "#     ring_cont = []\n",
    "#     for p in rin \n",
    "# data[0][0]"
   ]
  },
  {
   "cell_type": "code",
   "execution_count": null,
   "metadata": {},
   "outputs": [],
   "source": []
  },
  {
   "cell_type": "code",
   "execution_count": 22,
   "metadata": {},
   "outputs": [
    {
     "ename": "ValueError",
     "evalue": "operands could not be broadcast together with shapes (15129,2) (0,) ",
     "output_type": "error",
     "traceback": [
      "\u001b[0;31m---------------------------------------------------------------------------\u001b[0m",
      "\u001b[0;31mValueError\u001b[0m                                Traceback (most recent call last)",
      "Cell \u001b[0;32mIn[22], line 32\u001b[0m\n\u001b[1;32m     24\u001b[0m cm[y_filter, \u001b[38;5;241m1\u001b[39m] \u001b[38;5;241m-\u001b[39m\u001b[38;5;241m=\u001b[39m np\u001b[38;5;241m.\u001b[39mcopysign(size, cm[y_filter, \u001b[38;5;241m1\u001b[39m]) \n\u001b[1;32m     26\u001b[0m \u001b[38;5;66;03m# if (abs(dx) > size * 0.5)\u001b[39;00m\n\u001b[1;32m     27\u001b[0m \u001b[38;5;66;03m#     dx -= copysign(size, dx);\u001b[39;00m\n\u001b[1;32m     28\u001b[0m \n\u001b[1;32m     29\u001b[0m \u001b[38;5;66;03m# if (abs(dy) > size * 0.5)\u001b[39;00m\n\u001b[1;32m     30\u001b[0m \u001b[38;5;66;03m#     dy -= copysign(size, dy);\u001b[39;00m\n\u001b[0;32m---> 32\u001b[0m diff \u001b[38;5;241m=\u001b[39m \u001b[43mcm\u001b[49m\u001b[43m \u001b[49m\u001b[38;5;241;43m-\u001b[39;49m\u001b[43m \u001b[49m\u001b[43min_points\u001b[49m\n\u001b[1;32m     34\u001b[0m x_filter \u001b[38;5;241m=\u001b[39m np\u001b[38;5;241m.\u001b[39mabs(diff[:,\u001b[38;5;241m0\u001b[39m]) \u001b[38;5;241m>\u001b[39m size\u001b[38;5;241m/\u001b[39m\u001b[38;5;241m2\u001b[39m \n\u001b[1;32m     35\u001b[0m y_filter \u001b[38;5;241m=\u001b[39m np\u001b[38;5;241m.\u001b[39mabs(diff[:,\u001b[38;5;241m1\u001b[39m]) \u001b[38;5;241m>\u001b[39m size\u001b[38;5;241m/\u001b[39m\u001b[38;5;241m2\u001b[39m \n",
      "\u001b[0;31mValueError\u001b[0m: operands could not be broadcast together with shapes (15129,2) (0,) "
     ]
    }
   ],
   "source": [
    "# in_points = np.array([[0, 0]])\n",
    "in_points_1 = in_points[:1]\n",
    "\n",
    "size = cfg[\"space_cfg\"].size\n",
    "data_cont = np.zeros_like(data)\n",
    "\n",
    "data_cont[:,0] = data[:, 0]\n",
    "\n",
    "for i in range(1, data.shape[1]):\n",
    "    p_diff = data[:, i] - data[:, i-1]\n",
    "    \n",
    "    x_filter = np.abs(p_diff[:,0]) > size/2 \n",
    "    y_filter = np.abs(p_diff[:,1]) > size/2 \n",
    "    \n",
    "    p_diff[x_filter, 0] -= np.copysign(size, p_diff[x_filter, 0]) \n",
    "    p_diff[y_filter, 1] -= np.copysign(size, p_diff[y_filter, 1]) \n",
    "    \n",
    "    data_cont[:, i] = data_cont[:, i-1] + p_diff\n",
    "\n",
    "cm = data_cont.sum(axis=1)/data_cont.shape[1]\n",
    "x_filter = np.abs(cm[:,0]) > size/2 \n",
    "y_filter = np.abs(cm[:,1]) > size/2 \n",
    "cm[x_filter, 0] -= np.copysign(size, cm[x_filter, 0]) \n",
    "cm[y_filter, 1] -= np.copysign(size, cm[y_filter, 1]) \n",
    "\n",
    "# if (abs(dx) > size * 0.5)\n",
    "#     dx -= copysign(size, dx);\n",
    "\n",
    "# if (abs(dy) > size * 0.5)\n",
    "#     dy -= copysign(size, dy);\n",
    "\n",
    "diff = cm - in_points_1\n",
    "\n",
    "x_filter = np.abs(diff[:,0]) > size/2 \n",
    "y_filter = np.abs(diff[:,1]) > size/2 \n",
    "\n",
    "diff[x_filter, 0] -= np.copysign(size, diff[x_filter, 0]) \n",
    "diff[y_filter, 1] -= np.copysign(size, diff[y_filter, 1]) \n",
    "\n",
    "dist = np.sqrt(np.square(diff).sum(axis=1))"
   ]
  },
  {
   "cell_type": "code",
   "execution_count": 79,
   "metadata": {},
   "outputs": [
    {
     "data": {
      "text/plain": [
       "1.3279872580786303"
      ]
     },
     "execution_count": 79,
     "metadata": {},
     "output_type": "execute_result"
    }
   ],
   "source": [
    "dist.min()"
   ]
  },
  {
   "cell_type": "code",
   "execution_count": 12,
   "metadata": {},
   "outputs": [],
   "source": [
    "box_size = 40\n",
    "data_filter = dist < box_size \n",
    "rings = data[data_filter]\n",
    "\n",
    "if angle_data is None:\n",
    "    angle = np.zeros((rings.shape[0], rings.shape[1]))\n",
    "else:\n",
    "    angle = angle_data[data_filter] \n",
    "\n",
    "phystem_path = os.path.join(folder_name, \"phystem_data\")\n",
    "if not os.path.exists(phystem_path):\n",
    "    os.mkdir(phystem_path)\n",
    "\n",
    "\n",
    "np.save(os.path.join(phystem_path, \"pos.npy\"), rings)\n",
    "np.save(os.path.join(phystem_path, \"angle.npy\"), angle)\n",
    "with open(os.path.join(phystem_path, \"config.yaml\"), \"w\") as f:\n",
    "    yaml.dump(cfg, f)\n",
    "\n",
    "import shutil\n",
    "dest = os.path.join(phystem_path, \"check_point_metadata.pickle\")\n",
    "shutil.copyfile(\"./check_point_metadata.pickle\", dest)"
   ]
  },
  {
   "cell_type": "code",
   "execution_count": 17,
   "metadata": {},
   "outputs": [
    {
     "data": {
      "text/plain": [
       "'data_cluster/data_max_windows/phystem_data/check_point_metadata.pickle'"
      ]
     },
     "execution_count": 17,
     "metadata": {},
     "output_type": "execute_result"
    }
   ],
   "source": [
    "# rings.shape\n",
    "# rings"
   ]
  },
  {
   "cell_type": "code",
   "execution_count": 77,
   "metadata": {},
   "outputs": [
    {
     "data": {
      "image/png": "[encoded data removed]",
      "text/plain": [
       "<Figure size 640x480 with 1 Axes>"
      ]
     },
     "metadata": {},
     "output_type": "display_data"
    }
   ],
   "source": [
    "# plt.scatter(*in_points[0], marker=\"x\", c=\"black\", s=50, zorder=2)\n",
    "\n",
    "for r in data_cont[:1]:\n",
    "    plt.scatter(*r.T, zorder=1)"
   ]
  },
  {
   "cell_type": "code",
   "execution_count": 10,
   "metadata": {},
   "outputs": [
    {
     "data": {
      "text/plain": [
       "array([ 2.82842712, 14.14213562])"
      ]
     },
     "execution_count": 10,
     "metadata": {},
     "output_type": "execute_result"
    }
   ],
   "source": [
    "n = 4\n",
    "k = 2\n",
    "\n",
    "p = np.array([[1, 2]])\n",
    "# p = np.array([1, 2])\n",
    "\n",
    "a = np.arange(2*n*k).reshape(k, n, 2)\n",
    "b = a.sum(axis=1)/n\n",
    "\n",
    "np.sqrt(np.square(b - p).sum(axis=1))"
   ]
  }
 ],
 "metadata": {
  "kernelspec": {
   "display_name": "Python 3",
   "language": "python",
   "name": "python3"
  },
  "language_info": {
   "codemirror_mode": {
    "name": "ipython",
    "version": 3
   },
   "file_extension": ".py",
   "mimetype": "text/x-python",
   "name": "python",
   "nbconvert_exporter": "python",
   "pygments_lexer": "ipython3",
   "version": "3.10.12"
  }
 },
 "nbformat": 4,
 "nbformat_minor": 2
}
