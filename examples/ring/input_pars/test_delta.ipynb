{
 "cells": [
  {
   "cell_type": "code",
   "execution_count": null,
   "metadata": {},
   "outputs": [],
   "source": [
    "import numpy as np\n",
    "import matplotlib.pyplot as plt\n",
    "import pickle, yaml\n",
    "from pathlib import Path"
   ]
  },
  {
   "cell_type": "code",
   "execution_count": null,
   "metadata": {},
   "outputs": [],
   "source": [
    "k = 1.2\n",
    "# plt.rcParams[\"figure.figsize\"] = [2*k * 6.4, k * 4.8]\n",
    "plt.rcParams[\"figure.figsize\"] = [1*k * 6.4, k * 4.8]"
   ]
  },
  {
   "cell_type": "code",
   "execution_count": null,
   "metadata": {},
   "outputs": [],
   "source": [
    "from phystem.systems.ring.quantities.datas import DeltaData\n",
    "\n",
    "def get_delta_configs(configs):\n",
    "    return configs[\"run_cfg\"].func_cfg[\"delta\"]\n",
    "\n",
    "def plot_graph(id, data: DeltaData, mode: str, debug_path: str=None):\n",
    "    xlims = get_delta_configs(data.configs)[\"xlims\"]\n",
    "    space_cfg = data.configs[\"space_cfg\"]\n",
    "\n",
    "    if mode == \"init\":\n",
    "        selected_mask = np.isin(data.init_uids[id], data.init_selected_uids[id])\n",
    "\n",
    "        cms = data.init_cms[id]\n",
    "        x, y = data.init_cms[id].T\n",
    "        xs, ys = data.init_cms[id][selected_mask].T\n",
    "        uids = data.init_uids[id]\n",
    "        time =data.init_times[id]\n",
    "    elif mode == \"final\":\n",
    "        selected_mask = np.isin(data.final_uids[id], data.init_selected_uids[id])\n",
    "\n",
    "        cms = data.final_cms[id]\n",
    "        x, y = data.final_cms[id].T\n",
    "        xs, ys = data.final_cms[id][selected_mask].T\n",
    "        uids = data.final_uids[id]\n",
    "        time =data.final_times[id]\n",
    "    \n",
    "    plt.title(f\"{id} | t={time:.3f}\")\n",
    "    \n",
    "    h = space_cfg.height\n",
    "    plt.plot(2*[xlims[0]], [-h/2, h/2], color=\"black\")\n",
    "    plt.plot(2*[xlims[1]], [-h/2, h/2], color=\"black\")\n",
    "\n",
    "    plt.scatter(x, y)\n",
    "    plt.scatter(xs, ys, color=\"red\")\n",
    "\n",
    "    if debug_path:\n",
    "        from phystem.systems.ring.quantities.calculators import DeltaCalculator\n",
    "        from matplotlib.collections import LineCollection\n",
    "\n",
    "        debug = DeltaCalculator.load_debug_data(debug_path, id)\n",
    "        \n",
    "        links_lines = LineCollection(cms[debug.links], color=\"black\")\n",
    "        plt.gca().add_collection(links_lines)\n",
    "\n",
    "    for i, uid in enumerate(uids):\n",
    "        plt.annotate(str(uid), (x[i], y[i]))\n",
    "\n",
    "    if mode == \"final\":\n",
    "        wait_dist = get_delta_configs(data.configs)[\"wait_dist\"]\n",
    "        space_cfg = data.configs[\"space_cfg\"]\n",
    "        x_end = data.init_cms[id][:, 0].mean()  + wait_dist\n",
    "        h = space_cfg.height\n",
    "        plt.plot(2*[x_end], [-h/2, h/2], color=\"green\")\n",
    "\n",
    "\n",
    "def final_graph(id, data: DeltaData):\n",
    "    wait_dist = get_delta_configs(data.configs)[\"wait_dist\"]\n",
    "    for uid, cms in data.final_cms[id].items():\n",
    "        plt.figure()\n",
    "        plt.title(f\"{uid} | t = {data.final_times[id][uid]:.3f}\")\n",
    "        \n",
    "        init_idx = np.where(data.init_uids[id] == uid)[0][0]\n",
    "        x_end = data.init_cms[id][init_idx][0] + wait_dist\n",
    "        space_cfg = data.configs[\"space_cfg\"]\n",
    "        h = space_cfg.height\n",
    "        plt.plot(2*[x_end], [-h/2, h/2], color=\"black\")\n",
    "\n",
    "        x, y = cms.T\n",
    "        plt.scatter(x, y)\n",
    "        \n",
    "        selected_idx = np.where(data.final_uids[id][uid] == uid)[0][0]\n",
    "        xs, ys = cms[selected_idx]\n",
    "        plt.scatter(xs, ys, color=\"red\")\n",
    "\n",
    "        for i, uid in enumerate(data.final_uids[id][uid]):\n",
    "            plt.annotate(str(uid), (x[i], y[i]))\n",
    "    \n",
    "def check_selected_uids(data: DeltaData):\n",
    "    print(data.num_points)\n",
    "    for id in range(data.num_points):\n",
    "        expected = sorted(data.init_uids[id])\n",
    "        \n",
    "        f_cms = sorted(data.final_cms[id].keys())\n",
    "        if f_cms != expected:\n",
    "            print(\"========\")\n",
    "            print(f\"Error: final cm | id={id}\")\n",
    "            print(\"init:\", expected)\n",
    "            print(\"final:\", f_cms)\n",
    "\n",
    "        f_uids = sorted(data.final_uids[id].keys())\n",
    "        if f_uids != expected:\n",
    "            print(\"========\")\n",
    "            print(f\"Error: final uids | id={id}\")\n",
    "            print(\"init:\", expected)\n",
    "            print(\"final:\", f_uids)\n",
    "\n",
    "def check_uids(data: DeltaData):\n",
    "    for i in range(data.num_points_completed):\n",
    "        if (data.final_uids[i] != data.init_uids[i]).any():\n",
    "            print(f\"Erro: id={i}\")"
   ]
  },
  {
   "cell_type": "code",
   "execution_count": null,
   "metadata": {},
   "outputs": [],
   "source": [
    "data = DeltaData(\"../p0/datas/init_test/delta\")"
   ]
  },
  {
   "cell_type": "code",
   "execution_count": null,
   "metadata": {},
   "outputs": [],
   "source": [
    "check_uids(data)"
   ]
  },
  {
   "cell_type": "code",
   "execution_count": null,
   "metadata": {},
   "outputs": [],
   "source": [
    "# id = 10\n",
    "\n",
    "# init_graph(id, data)\n",
    "# final_graph(id, data)\n",
    "# plot_graph(1, data, \"init\", debug_path=\"../p0/results/init_test/delta\")\n",
    "\n",
    "\n",
    "debug_path = \"../p0/results/init_test/delta\"\n",
    "# debug_path = None\n",
    "for i in range(min(data.num_points_completed, 4)):\n",
    "    plt.figure()\n",
    "    plt.subplot(121)\n",
    "    plt.gca().set_aspect(\"equal\")\n",
    "    plot_graph(i, data, \"init\", debug_path=debug_path)\n",
    "    plt.subplot(122)\n",
    "    plt.gca().set_aspect(\"equal\")\n",
    "    plot_graph(i, data, \"final\", debug_path=debug_path)\n"
   ]
  },
  {
   "cell_type": "code",
   "execution_count": null,
   "metadata": {},
   "outputs": [],
   "source": [
    "from phystem.systems.ring.quantities.calculators import DeltaCalculator\n",
    "\n",
    "calc = DeltaCalculator(\"datas/delta\", edge_k=1.3, root_path=\"results/delta\")\n",
    "calc.crunch_numbers()"
   ]
  },
  {
   "cell_type": "code",
   "execution_count": null,
   "metadata": {},
   "outputs": [],
   "source": [
    "plt.plot(calc.times, calc.deltas, \".-\")\n",
    "plt.show()"
   ]
  }
 ],
 "metadata": {
  "kernelspec": {
   "display_name": "Python 3",
   "language": "python",
   "name": "python3"
  },
  "language_info": {
   "codemirror_mode": {
    "name": "ipython",
    "version": 3
   },
   "file_extension": ".py",
   "mimetype": "text/x-python",
   "name": "python",
   "nbconvert_exporter": "python",
   "pygments_lexer": "ipython3",
   "version": "3.10.12"
  }
 },
 "nbformat": 4,
 "nbformat_minor": 2
}
