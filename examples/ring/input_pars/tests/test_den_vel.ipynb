{
 "cells": [
  {
   "cell_type": "code",
   "execution_count": null,
   "metadata": {},
   "outputs": [],
   "source": [
    "import numpy as np\n",
    "import matplotlib.pyplot as plt\n",
    "\n",
    "from phystem.systems.ring.quantities.datas import DenVelData\n",
    "from phystem.systems.ring.collectors.data_types import MultFileList, ArraySizeAware \n",
    "from phystem.systems.ring.quantities.calculators import DenVelCalculator"
   ]
  },
  {
   "cell_type": "code",
   "execution_count": null,
   "metadata": {},
   "outputs": [],
   "source": [
    "k = 1.2\n",
    "plt.rcParams[\"figure.figsize\"] = [k * 6.4, k * 4.8]"
   ]
  },
  {
   "cell_type": "code",
   "execution_count": null,
   "metadata": {},
   "outputs": [],
   "source": [
    "def test_num_els(array: ArraySizeAware):\n",
    "    num_els = []\n",
    "    for i in range(array.data.shape[0]):\n",
    "        num_els.append(np.where(array.data[i,:,0] == 0)[0][0])\n",
    "    \n",
    "    return np.where(num_els != array.point_num_elements)[0]\n",
    "\n",
    "def test_data(data: MultFileList):\n",
    "    for fid in range(data.num_files):\n",
    "        array = data.get_file(fid)\n",
    "    \n",
    "        if array.num_points != array.data.shape[0]:\n",
    "            print(f\"Erro no número de pontos: fid={fid}\") \n",
    "    \n",
    "        error_ids = test_num_els(array)\n",
    "        if error_ids.size > 0:\n",
    "            print(fid, error_ids)\n"
   ]
  },
  {
   "cell_type": "code",
   "execution_count": null,
   "metadata": {},
   "outputs": [],
   "source": [
    "data = DenVelData(\"datas/den_vel\")"
   ]
  },
  {
   "cell_type": "code",
   "execution_count": null,
   "metadata": {},
   "outputs": [],
   "source": [
    "test_data(data.den_data)\n",
    "print(\"===\")\n",
    "test_data(data.vel_data)"
   ]
  },
  {
   "cell_type": "code",
   "execution_count": null,
   "metadata": {},
   "outputs": [],
   "source": [
    "den_vel_calc = DenVelCalculator(\"datas/den_vel\", \"results/den_vel\")\n",
    "den_vel_calc.crunch_numbers(to_save=True)"
   ]
  },
  {
   "cell_type": "code",
   "execution_count": null,
   "metadata": {},
   "outputs": [],
   "source": [
    "vel_order_par = []\n",
    "\n",
    "dt = 0.5\n",
    "for vel in data.vel_data:\n",
    "    vels = (vel[:,2:] - vel[:,:2]) / dt\n",
    "    speeds = np.sqrt(np.square(vels).sum(axis=1))\n",
    "    speeds[speeds == 0] = 1\n",
    "    \n",
    "    vel_mean = (vels/speeds.reshape(-1, 1)).sum(axis=0) / vels.shape[0]\n",
    "    \n",
    "    vel_order_par.append(((vel_mean**2).sum())**.5)"
   ]
  },
  {
   "cell_type": "code",
   "execution_count": null,
   "metadata": {},
   "outputs": [],
   "source": [
    "np.abs(np.array(den_vel_calc.vel_order_par) - vel_order_par).max()"
   ]
  },
  {
   "cell_type": "code",
   "execution_count": null,
   "metadata": {},
   "outputs": [],
   "source": [
    "plt.plot(den_vel_calc.data.vel_time, den_vel_calc.vel_order_par)"
   ]
  },
  {
   "cell_type": "code",
   "execution_count": null,
   "metadata": {},
   "outputs": [],
   "source": [
    "plt.plot(den_vel_calc.data.den_time, den_vel_calc.den_eq)"
   ]
  }
 ],
 "metadata": {
  "kernelspec": {
   "display_name": "Python 3",
   "language": "python",
   "name": "python3"
  },
  "language_info": {
   "codemirror_mode": {
    "name": "ipython",
    "version": 3
   },
   "file_extension": ".py",
   "mimetype": "text/x-python",
   "name": "python",
   "nbconvert_exporter": "python",
   "pygments_lexer": "ipython3",
   "version": "3.10.12"
  }
 },
 "nbformat": 4,
 "nbformat_minor": 2
}
