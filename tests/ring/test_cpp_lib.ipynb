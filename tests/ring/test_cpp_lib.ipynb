{
 "cells": [
  {
   "cell_type": "code",
   "execution_count": 2,
   "metadata": {},
   "outputs": [],
   "source": [
    "import numpy as np\n",
    "\n",
    "from phystem.cpp_lib.solvers import Ring\n",
    "from phystem.cpp_lib.configs import RingCfg as cppRingCfg \n",
    "from phystem.cpp_lib.configs import InPolCheckerCfg\n",
    "from phystem.cpp_lib.data_types import PyVecList, PosVec, List, Vector3d, List2d\n",
    "from phystem.cpp_lib import managers\n",
    "\n",
    "\n",
    "from phystem.systems.ring.simulation import Simulation\n",
    "from phystem.systems.ring.configs import *\n",
    "from phystem.systems.ring.collect_pipelines import CollectPlCfg\n",
    "from phystem.systems.ring.creators import Creator, InitData\n",
    "\n",
    "from phystem.core.run_config import UpdateType, SolverType, RunType\n",
    "from phystem.core.run_config import RealTimeCfg, CollectDataCfg, SaveCfg, ReplayDataCfg, CheckpointCfg"
   ]
  },
  {
   "cell_type": "code",
   "execution_count": 18,
   "metadata": {},
   "outputs": [
    {
     "data": {
      "text/plain": [
       "[[[[0, 1], [1, 0], [1, 1], [1, 4]],\n",
       "  [[0, 2], [1, 1], [1, 2], [1, 0]],\n",
       "  [[0, 3], [1, 2], [1, 3], [1, 1]],\n",
       "  [[0, 4], [1, 3], [1, 4], [1, 2]],\n",
       "  [[0, 0], [1, 4], [1, 0], [1, 3]]],\n",
       " [[[1, 1], [2, 0], [2, 1], [2, 4]],\n",
       "  [[1, 2], [2, 1], [2, 2], [2, 0]],\n",
       "  [[1, 3], [2, 2], [2, 3], [2, 1]],\n",
       "  [[1, 4], [2, 3], [2, 4], [2, 2]],\n",
       "  [[1, 0], [2, 4], [2, 0], [2, 3]]],\n",
       " [[[2, 1], [3, 0], [3, 1], [3, 4]],\n",
       "  [[2, 2], [3, 1], [3, 2], [3, 0]],\n",
       "  [[2, 3], [3, 2], [3, 3], [3, 1]],\n",
       "  [[2, 4], [3, 3], [3, 4], [3, 2]],\n",
       "  [[2, 0], [3, 4], [3, 0], [3, 3]]],\n",
       " [[[3, 1], [4, 0], [4, 1], [4, 4]],\n",
       "  [[3, 2], [4, 1], [4, 2], [4, 0]],\n",
       "  [[3, 3], [4, 2], [4, 3], [4, 1]],\n",
       "  [[3, 4], [4, 3], [4, 4], [4, 2]],\n",
       "  [[3, 0], [4, 4], [4, 0], [4, 3]]],\n",
       " [[[4, 1], [0, 0], [0, 1], [0, 4]],\n",
       "  [[4, 2], [0, 1], [0, 2], [0, 0]],\n",
       "  [[4, 3], [0, 2], [0, 3], [0, 1]],\n",
       "  [[4, 4], [0, 3], [0, 4], [0, 2]],\n",
       "  [[4, 0], [0, 4], [0, 0], [0, 3]]]]"
      ]
     },
     "execution_count": 18,
     "metadata": {},
     "output_type": "execute_result"
    }
   ],
   "source": [
    "space_info = managers.SpaceInfo(10, 10, [0, 0])\n",
    "\n",
    "import numpy as np\n",
    "pos = np.random.random((10, 10, 2)) * 2 - 1\n",
    "pos *= 10\n",
    "\n",
    "pos_cpp = Vector3d([PosVec(ring) for ring in pos])\n",
    "\n",
    "wm = managers.WindowsManagerRing(pos_cpp, 5, 5, space_info)\n",
    "\n",
    "wm.window_neighbor"
   ]
  },
  {
   "cell_type": "code",
   "execution_count": 4,
   "metadata": {},
   "outputs": [
    {
     "name": "stdout",
     "output_type": "stream",
     "text": [
      "update_freq: 1\n"
     ]
    }
   ],
   "source": [
    "dynamic_cfg = RingCfg(\n",
    "    spring_k=1,\n",
    "    spring_r=1,\n",
    "    \n",
    "    area_potencial=\"target_area\",\n",
    "    k_bend=1,\n",
    "    p0=3.55,\n",
    "    \n",
    "    exclusion_vol=1,\n",
    "    mobility=1,\n",
    "    diameter=1,\n",
    "    relax_time=1,\n",
    "    vo=1,\n",
    "    trans_diff=0.1,\n",
    "    rot_diff=0.1,\n",
    ")\n",
    "\n",
    "space_cfg = SpaceCfg(\n",
    "    size = 30,\n",
    ")\n",
    "\n",
    "radius = space_cfg.size/6\n",
    "creator_cfg = CreatorCfg(\n",
    "    num_rings = 2,\n",
    "    num_p = 30,\n",
    "    r = [radius]*2,\n",
    "    angle=[0, 3.1415],\n",
    "    center=[[-1.3*radius, 0], [1.3 * radius, 0]]\n",
    ")\n",
    "\n",
    "run_cfg = CollectDataCfg(\n",
    "    int_cfg=None,\n",
    "    tf=None,\n",
    "    folder_path=None,\n",
    "    func=lambda : None,\n",
    "    checkpoint=CheckpointCfg(\n",
    "        folder_path=\"../../user/ring/ring_intersect/data_hd_test/phystem_data\"),\n",
    ")\n",
    "\n",
    "sim = Simulation(creator_cfg, dynamic_cfg, space_cfg, run_cfg)"
   ]
  },
  {
   "cell_type": "code",
   "execution_count": 14,
   "metadata": {},
   "outputs": [
    {
     "name": "stdout",
     "output_type": "stream",
     "text": [
      "[[448.50629351 207.65186111]\n",
      " [449.11710305 206.95559802]]\n"
     ]
    }
   ],
   "source": [
    "# sim.solver.update_visual_aids()\n",
    "\n",
    "n = sim.solver.in_pol_checker.num_inside_points\n",
    "print(np.array(sim.solver.in_pol_checker.inside_points[:n]))\n",
    "\n",
    "\n",
    "# print(sim.solver.cpp_solver.in_pol_checker.inside_points[0])\n",
    "# print(sim.solver.cpp_solver.in_pol_checker.inside_points[1])\n",
    "# print(sim.solver.cpp_solver.in_pol_checker.inside_points[2])"
   ]
  },
  {
   "cell_type": "code",
   "execution_count": 3,
   "metadata": {},
   "outputs": [
    {
     "name": "stdout",
     "output_type": "stream",
     "text": [
      "update_freq: 1\n"
     ]
    }
   ],
   "source": [
    "dynamic_cfg = RingCfg(\n",
    "    spring_k=1,\n",
    "    spring_r=1,\n",
    "    \n",
    "    area_potencial=\"target_area\",\n",
    "    k_bend=1,\n",
    "    p0=3.55,\n",
    "    \n",
    "    exclusion_vol=1,\n",
    "    mobility=1,\n",
    "    diameter=1,\n",
    "    relax_time=1,\n",
    "    vo=1,\n",
    "    trans_diff=0.1,\n",
    "    rot_diff=0.1,\n",
    ")\n",
    "\n",
    "space_cfg = SpaceCfg(\n",
    "    size = 30,\n",
    ")\n",
    "\n",
    "radius = space_cfg.size/6\n",
    "creator_cfg = CreatorCfg(\n",
    "    num_rings = 2,\n",
    "    num_p = 30,\n",
    "    r = [radius]*2,\n",
    "    angle=[0, 3.1415],\n",
    "    center=[[-1.3*radius, 0], [1.3 * radius, 0]]\n",
    ")\n",
    "\n",
    "dt=0.001\n",
    "num_col_windows = 40\n",
    "seed = -1\n",
    "num_skip_steps = 0\n",
    "integration_type = 0\n",
    "in_pol_checker_cfg = InPolCheckerCfg(60, 1, False)\n",
    "\n",
    "\n",
    "creator = Creator(**creator_cfg.get_pars())\n",
    "init_data = creator.create()\n",
    "\n",
    "# init_data = InitData(\n",
    "#     pos             = np.load(\"../../user/ring/ring_intersect/data_hd_test/pos.npy\"),\n",
    "#     self_prop_angle = np.load(\"../../user/ring/ring_intersect/data_hd_test/angle.npy\"),\n",
    "# )\n",
    "\n",
    "pos_in = [PosVec(ring_pos) for ring_pos in init_data.pos]\n",
    "angle_in = [List(ring_angle) for ring_angle in init_data.self_prop_angle]\n",
    "\n",
    "pos = Vector3d(pos_in)\n",
    "self_prop_angles = List2d(angle_in)\n",
    "\n",
    "dynamic_cfg.adjust_area_pars(creator_cfg.num_p)\n",
    "dynamic_cfg = cppRingCfg(dynamic_cfg.cpp_constructor_args())\n",
    "\n",
    "solver = Ring(pos, self_prop_angles, dynamic_cfg, space_cfg.size, \n",
    "    dt, num_col_windows, seed, num_skip_steps, integration_type, in_pol_checker_cfg)"
   ]
  },
  {
   "cell_type": "code",
   "execution_count": null,
   "metadata": {},
   "outputs": [
    {
     "ename": "",
     "evalue": "",
     "output_type": "error",
     "traceback": [
      "\u001b[1;31mThe Kernel crashed while executing code in the the current cell or a previous cell. Please review the code in the cell(s) to identify a possible cause of the failure. Click <a href='https://aka.ms/vscodeJupyterKernelCrash'>here</a> for more info. View Jupyter <a href='command:jupyter.viewOutput'>log</a> for further details."
     ]
    }
   ],
   "source": [
    "# solver.in_pol_checker.num_inside_points\n",
    "solver.update_visual_aids()"
   ]
  },
  {
   "cell_type": "code",
   "execution_count": 58,
   "metadata": {},
   "outputs": [
    {
     "data": {
      "text/plain": [
       "77.94106530819887"
      ]
     },
     "execution_count": 58,
     "metadata": {},
     "output_type": "execute_result"
    }
   ],
   "source": [
    "solver.update_normal()\n",
    "solver.area_debug.area[0]"
   ]
  },
  {
   "cell_type": "code",
   "execution_count": 3,
   "metadata": {},
   "outputs": [
    {
     "name": "stdout",
     "output_type": "stream",
     "text": [
      "[10.0, 0.0]\n",
      "[10.00001, 0.0]\n"
     ]
    }
   ],
   "source": [
    "print(solver.pos[0])\n",
    "solver.update_normal()\n",
    "print(solver.pos[0])\n",
    "# print(p2)"
   ]
  },
  {
   "cell_type": "code",
   "execution_count": 5,
   "metadata": {},
   "outputs": [
    {
     "data": {
      "text/plain": [
       "0"
      ]
     },
     "execution_count": 5,
     "metadata": {},
     "output_type": "execute_result"
    }
   ],
   "source": [
    "solver.upda"
   ]
  },
  {
   "cell_type": "code",
   "execution_count": 14,
   "metadata": {},
   "outputs": [
    {
     "data": {
      "text/plain": [
       "<matplotlib.collections.LineCollection at 0x7f821a55c4c0>"
      ]
     },
     "execution_count": 14,
     "metadata": {},
     "output_type": "execute_result"
    }
   ],
   "source": [
    "from matplotlib.collections import LineCollection\n",
    "\n",
    "\n",
    "\n",
    "LineCollection([[(1,2), [2,4]], [(1,2), [2,4]]])"
   ]
  },
  {
   "cell_type": "code",
   "execution_count": 42,
   "metadata": {},
   "outputs": [],
   "source": [
    "p2 = solver.pos[0]"
   ]
  },
  {
   "cell_type": "code",
   "execution_count": 15,
   "metadata": {},
   "outputs": [
    {
     "data": {
      "text/plain": [
       "[15.0, 15.0]"
      ]
     },
     "execution_count": 15,
     "metadata": {},
     "output_type": "execute_result"
    }
   ],
   "source": [
    "segs = []\n",
    "for id in enumerate(solver.pos):\n",
    "    segs.append()"
   ]
  }
 ],
 "metadata": {
  "kernelspec": {
   "display_name": "Python 3",
   "language": "python",
   "name": "python3"
  },
  "language_info": {
   "codemirror_mode": {
    "name": "ipython",
    "version": 3
   },
   "file_extension": ".py",
   "mimetype": "text/x-python",
   "name": "python",
   "nbconvert_exporter": "python",
   "pygments_lexer": "ipython3",
   "version": "3.10.12"
  },
  "orig_nbformat": 4
 },
 "nbformat": 4,
 "nbformat_minor": 2
}
