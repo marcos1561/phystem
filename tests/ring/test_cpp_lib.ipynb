{
 "cells": [
  {
   "cell_type": "code",
   "execution_count": 1,
   "metadata": {},
   "outputs": [],
   "source": [
    "import numpy as np\n",
    "\n",
    "from phystem.cpp_lib.solvers import Ring\n",
    "from phystem.cpp_lib.data_types import PyVecList, PosVec, List\n",
    "from phystem.cpp_lib.configs import RingCfg as cppRingCfg\n",
    "\n",
    "\n",
    "from phystem.ring.simulation import Simulation\n",
    "from phystem.ring.configs import *\n",
    "from phystem.core.run_config import UpdateType, SolverType, RunType, CollectPlCfg\n",
    "from phystem.core.run_config import RealTimeCfg, CollectDataCfg, SaveCfg, ReplayDataCfg"
   ]
  },
  {
   "cell_type": "code",
   "execution_count": 2,
   "metadata": {},
   "outputs": [
    {
     "name": "stdout",
     "output_type": "stream",
     "text": [
      "Sem debug\n"
     ]
    }
   ],
   "source": [
    "dynamic_cfg = RingCfg(\n",
    "    spring_k=1,\n",
    "    spring_r=1,\n",
    "    bend_k=1,\n",
    "    exclusion_vol=1,\n",
    "    mobility=1,\n",
    "    diameter=1,\n",
    "    relax_time=1,\n",
    "    vo=0.1,\n",
    "    trans_diff=0.1,\n",
    "    rot_diff=0.1,\n",
    ")\n",
    "\n",
    "space_cfg = SpaceCfg(\n",
    "    size = 30,\n",
    ")\n",
    "\n",
    "create_cfg = CreateCfg(\n",
    "    n = 10,\n",
    "    r = space_cfg.size/3,\n",
    "    vo = dynamic_cfg.vo,\n",
    "    angle=0,\n",
    ")\n",
    "\n",
    "angles = np.linspace(0, np.pi*2, create_cfg.n)\n",
    "pos = create_cfg.r * np.array([np.cos(angles), np.sin(angles)])\n",
    "\n",
    "self_prop_angles = create_cfg.angle * np.ones(create_cfg.n, dtype=float)\n",
    "\n",
    "vel = create_cfg.vo * np.array([np.cos(self_prop_angles.copy()), np.sin(self_prop_angles.copy())])\n",
    "\n",
    "pos = PosVec(pos.T)\n",
    "vel = PosVec(vel.T)\n",
    "self_prop_angles = List(self_prop_angles)\n",
    "\n",
    "dynamic_cfg = cppRingCfg(dynamic_cfg.cpp_constructor_args())\n",
    "\n",
    "solver = Ring(pos, vel, self_prop_angles, dynamic_cfg, space_cfg.size, 0.0001, -1)"
   ]
  },
  {
   "cell_type": "code",
   "execution_count": 66,
   "metadata": {},
   "outputs": [
    {
     "name": "stdout",
     "output_type": "stream",
     "text": [
      "[nan, nan]\n",
      "[nan, nan]\n"
     ]
    }
   ],
   "source": [
    "print(solver.pos[0])\n",
    "solver.update_normal()\n",
    "print(solver.pos[0])\n",
    "# print(p2)"
   ]
  },
  {
   "cell_type": "code",
   "execution_count": 14,
   "metadata": {},
   "outputs": [
    {
     "data": {
      "text/plain": [
       "<matplotlib.collections.LineCollection at 0x7f821a55c4c0>"
      ]
     },
     "execution_count": 14,
     "metadata": {},
     "output_type": "execute_result"
    }
   ],
   "source": [
    "from matplotlib.collections import LineCollection\n",
    "\n",
    "\n",
    "\n",
    "LineCollection([[(1,2), [2,4]], [(1,2), [2,4]]])"
   ]
  },
  {
   "cell_type": "code",
   "execution_count": 42,
   "metadata": {},
   "outputs": [],
   "source": [
    "p2 = solver.pos[0]"
   ]
  },
  {
   "cell_type": "code",
   "execution_count": 15,
   "metadata": {},
   "outputs": [
    {
     "data": {
      "text/plain": [
       "[15.0, 15.0]"
      ]
     },
     "execution_count": 15,
     "metadata": {},
     "output_type": "execute_result"
    }
   ],
   "source": [
    "segs = []\n",
    "for id in enumerate(solver.pos):\n",
    "    segs.append()"
   ]
  }
 ],
 "metadata": {
  "kernelspec": {
   "display_name": "Python 3",
   "language": "python",
   "name": "python3"
  },
  "language_info": {
   "codemirror_mode": {
    "name": "ipython",
    "version": 3
   },
   "file_extension": ".py",
   "mimetype": "text/x-python",
   "name": "python",
   "nbconvert_exporter": "python",
   "pygments_lexer": "ipython3",
   "version": "3.10.12"
  },
  "orig_nbformat": 4
 },
 "nbformat": 4,
 "nbformat_minor": 2
}
