{
 "cells": [
  {
   "cell_type": "code",
   "execution_count": 1,
   "metadata": {},
   "outputs": [],
   "source": [
    "import numpy as np\n",
    "\n",
    "from phystem.cpp_lib.solvers import Ring\n",
    "from phystem.cpp_lib.data_types import PyVecList, PosVec, List\n",
    "from phystem.cpp_lib.configs import RingCfg as cppRingCfg\n",
    "\n",
    "\n",
    "from phystem.ring.simulation import Simulation\n",
    "from phystem.ring.configs import *\n",
    "from phystem.core.run_config import UpdateType, SolverType, RunType\n",
    "from phystem.core.run_config import RealTimeCfg, CollectDataCfg, SaveCfg, ReplayDataCfg\n",
    "from phystem.ring.collect_pipelines import CollectPlCfg\n",
    "from phystem.ring.creators import Creator"
   ]
  },
  {
   "cell_type": "code",
   "execution_count": 2,
   "metadata": {},
   "outputs": [],
   "source": [
    "dynamic_cfg = RingCfg(\n",
    "    spring_k=1,\n",
    "    spring_r=1,\n",
    "    k_bend=1,\n",
    "    p0=3.55,\n",
    "    exclusion_vol=1,\n",
    "    mobility=1,\n",
    "    diameter=1,\n",
    "    relax_time=1,\n",
    "    vo=0.1,\n",
    "    trans_diff=0.1,\n",
    "    rot_diff=0.1,\n",
    ")\n",
    "\n",
    "space_cfg = SpaceCfg(\n",
    "    size = 30,\n",
    ")\n",
    "\n",
    "create_cfg = CreateCfg(\n",
    "    n = 10,\n",
    "    r = space_cfg.size/3,\n",
    "    vo = dynamic_cfg.vo,\n",
    "    angle=0,\n",
    ")\n",
    "\n",
    "creator = Creator(**create_cfg.get_pars())\n",
    "init_data = creator.create()\n",
    "\n",
    "pos = PosVec(init_data.pos.T)\n",
    "vel = PosVec(init_data.vel.T)\n",
    "self_prop_angles = List(init_data.self_prop_angle)\n",
    "\n",
    "dynamic_cfg = cppRingCfg(dynamic_cfg.cpp_constructor_args())\n",
    "\n",
    "solver = Ring(pos, vel, self_prop_angles, dynamic_cfg, space_cfg.size, 0.0001, -1)"
   ]
  },
  {
   "cell_type": "code",
   "execution_count": 3,
   "metadata": {},
   "outputs": [
    {
     "name": "stdout",
     "output_type": "stream",
     "text": [
      "[10.0, 0.0]\n",
      "[10.00001, 0.0]\n"
     ]
    }
   ],
   "source": [
    "print(solver.pos[0])\n",
    "solver.update_normal()\n",
    "print(solver.pos[0])\n",
    "# print(p2)"
   ]
  },
  {
   "cell_type": "code",
   "execution_count": 5,
   "metadata": {},
   "outputs": [
    {
     "data": {
      "text/plain": [
       "0"
      ]
     },
     "execution_count": 5,
     "metadata": {},
     "output_type": "execute_result"
    }
   ],
   "source": [
    "solver.upda"
   ]
  },
  {
   "cell_type": "code",
   "execution_count": 14,
   "metadata": {},
   "outputs": [
    {
     "data": {
      "text/plain": [
       "<matplotlib.collections.LineCollection at 0x7f821a55c4c0>"
      ]
     },
     "execution_count": 14,
     "metadata": {},
     "output_type": "execute_result"
    }
   ],
   "source": [
    "from matplotlib.collections import LineCollection\n",
    "\n",
    "\n",
    "\n",
    "LineCollection([[(1,2), [2,4]], [(1,2), [2,4]]])"
   ]
  },
  {
   "cell_type": "code",
   "execution_count": 42,
   "metadata": {},
   "outputs": [],
   "source": [
    "p2 = solver.pos[0]"
   ]
  },
  {
   "cell_type": "code",
   "execution_count": 15,
   "metadata": {},
   "outputs": [
    {
     "data": {
      "text/plain": [
       "[15.0, 15.0]"
      ]
     },
     "execution_count": 15,
     "metadata": {},
     "output_type": "execute_result"
    }
   ],
   "source": [
    "segs = []\n",
    "for id in enumerate(solver.pos):\n",
    "    segs.append()"
   ]
  }
 ],
 "metadata": {
  "kernelspec": {
   "display_name": "Python 3",
   "language": "python",
   "name": "python3"
  },
  "language_info": {
   "codemirror_mode": {
    "name": "ipython",
    "version": 3
   },
   "file_extension": ".py",
   "mimetype": "text/x-python",
   "name": "python",
   "nbconvert_exporter": "python",
   "pygments_lexer": "ipython3",
   "version": "3.10.12"
  },
  "orig_nbformat": 4
 },
 "nbformat": 4,
 "nbformat_minor": 2
}
